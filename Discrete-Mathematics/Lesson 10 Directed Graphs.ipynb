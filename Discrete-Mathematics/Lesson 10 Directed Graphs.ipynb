{
 "cells": [
  {
   "cell_type": "markdown",
   "metadata": {},
   "source": [
    "+ This Jupyter notebook<sup>[1]</sup> is part of the Klopper Letures on Discrete Matheamtics and covers *directed graphs*\n",
    "+ Created by me, Dr Juan H Klopper\n",
    "    + Head of Acute Care Surgery\n",
    "    + Groote Schuur Hospital\n",
    "    + University Cape Town\n",
    "    + <a href=\"mailto:juan.klopper@uct.ac.za\">Email me with your thoughts, comments, suggestions and corrections</a> \n",
    "<a rel=\"license\" href=\"http://creativecommons.org/licenses/by-nc/4.0/\"><img alt=\"Creative Commons Licence\" style=\"border-width:0\" src=\"https://i.creativecommons.org/l/by-nc/4.0/88x31.png\" /></a><br /><span xmlns:dct=\"http://purl.org/dc/terms/\" href=\"http://purl.org/dc/dcmitype/InteractiveResource\" property=\"dct:title\" rel=\"dct:type\">The Klopper Lectures on Discrete Mathematics</span> <span xmlns:cc=\"http://creativecommons.org/ns#\" property=\"cc:attributionName\"></span> study notes is licensed under a <a rel=\"license\" href=\"http://creativecommons.org/licenses/by-nc/4.0/\">Creative Commons Attribution-NonCommercial 4.0 International License</a>.\n",
    "\n",
    "+ [1] Fernando Pérez, Brian E. Granger, IPython: A System for Interactive Scientific Computing, Computing in Science and Engineering, vol. 9, no. 3, pp. 21-29, May/June 2007, doi:10.1109/MCSE.2007.53. URL: http://ipython.org"
   ]
  },
  {
   "cell_type": "code",
   "execution_count": 1,
   "metadata": {
    "collapsed": false
   },
   "outputs": [
    {
     "data": {
      "text/html": [
       "<link href='http://fonts.googleapis.com/css?family=Alegreya+Sans:100,300,400,500,700,800,900,100italic,300italic,400italic,500italic,700italic,800italic,900italic' rel='stylesheet' type='text/css'>\n",
       "<link href='http://fonts.googleapis.com/css?family=Arvo:400,700,400italic' rel='stylesheet' type='text/css'>\n",
       "<link href='http://fonts.googleapis.com/css?family=PT+Mono' rel='stylesheet' type='text/css'>\n",
       "<link href='http://fonts.googleapis.com/css?family=Shadows+Into+Light' rel='stylesheet' type='text/css'>\n",
       "<link href='http://fonts.googleapis.com/css?family=Philosopher:400,700,400italic,700italic' rel='stylesheet' type='text/css'>\n",
       "\n",
       "<style>\n",
       "\n",
       "@font-face {\n",
       "    font-family: \"Computer Modern\";\n",
       "    src: url('http://mirrors.ctan.org/fonts/cm-unicode/fonts/otf/cmunss.otf');\n",
       "}\n",
       "\n",
       "#notebook_panel { /* main background */\n",
       "    background: #ddd;\n",
       "    color: #000000;\n",
       "}\n",
       "\n",
       "\n",
       "\n",
       "/* Formatting for header cells */\n",
       ".text_cell_render h1 {\n",
       "    font-family: 'Philosopher', sans-serif;\n",
       "    font-weight: 400;\n",
       "    font-size: 2.2em;\n",
       "    line-height: 100%;\n",
       "    color: rgb(0, 80, 120);\n",
       "    margin-bottom: 0.1em;\n",
       "    margin-top: 0.1em;\n",
       "    display: block;\n",
       "}\t\n",
       ".text_cell_render h2 {\n",
       "    font-family: 'Philosopher', serif;\n",
       "    font-weight: 400;\n",
       "    font-size: 1.9em;\n",
       "    line-height: 100%;\n",
       "    color: rgb(200,100,0);\n",
       "    margin-bottom: 0.1em;\n",
       "    margin-top: 0.1em;\n",
       "    display: block;\n",
       "}\t\n",
       "\n",
       ".text_cell_render h3 {\n",
       "    font-family: 'Philosopher', serif;\n",
       "    margin-top:12px;\n",
       "    margin-bottom: 3px;\n",
       "    font-style: italic;\n",
       "    color: rgb(94,127,192);\n",
       "}\n",
       "\n",
       ".text_cell_render h4 {\n",
       "    font-family: 'Philosopher', serif;\n",
       "}\n",
       "\n",
       ".text_cell_render h5 {\n",
       "    font-family: 'Alegreya Sans', sans-serif;\n",
       "    font-weight: 300;\n",
       "    font-size: 16pt;\n",
       "    color: grey;\n",
       "    font-style: italic;\n",
       "    margin-bottom: .1em;\n",
       "    margin-top: 0.1em;\n",
       "    display: block;\n",
       "}\n",
       "\n",
       ".text_cell_render h6 {\n",
       "    font-family: 'PT Mono', sans-serif;\n",
       "    font-weight: 300;\n",
       "    font-size: 10pt;\n",
       "    color: grey;\n",
       "    margin-bottom: 1px;\n",
       "    margin-top: 1px;\n",
       "}\n",
       "\n",
       ".CodeMirror{\n",
       "        font-family: \"PT Mono\";\n",
       "        font-size: 100%;\n",
       "}\n",
       "\n",
       "</style>\n",
       "\n"
      ],
      "text/plain": [
       "<IPython.core.display.HTML object>"
      ]
     },
     "execution_count": 1,
     "metadata": {},
     "output_type": "execute_result"
    }
   ],
   "source": [
    "from IPython.core.display import HTML\n",
    "#css_file = 'numericalmoocstyle.css'\n",
    "#css_file = \"custom.css\"\n",
    "css_file = 'style.css'\n",
    "HTML(open(css_file, 'r').read())"
   ]
  },
  {
   "cell_type": "code",
   "execution_count": 2,
   "metadata": {
    "collapsed": true
   },
   "outputs": [],
   "source": [
    "#import numpy as np\n",
    "#import scipy as sp\n",
    "import networkx as nx\n",
    "import sympy as sym\n",
    "import matplotlib.pyplot as plt"
   ]
  },
  {
   "cell_type": "code",
   "execution_count": 3,
   "metadata": {
    "collapsed": true
   },
   "outputs": [],
   "source": [
    "from IPython.display import Image"
   ]
  },
  {
   "cell_type": "code",
   "execution_count": 4,
   "metadata": {
    "collapsed": true
   },
   "outputs": [],
   "source": [
    "%matplotlib inline\n",
    "sym.init_printing(use_latex = \"mathjax\")"
   ]
  },
  {
   "cell_type": "markdown",
   "metadata": {},
   "source": [
    "# Set operations"
   ]
  },
  {
   "cell_type": "markdown",
   "metadata": {},
   "source": [
    "## In this lesson"
   ]
  },
  {
   "cell_type": "markdown",
   "metadata": {},
   "source": [
    "Follow these links\n",
    "- [Introduction](#Introduction)\n",
    "- [Degrees](#Degrees)\n",
    "- [Paths, trails, cycles, and others](#Paths,-trails,-cycles,-and-others)\n",
    "- [Connectivity](#Connectivity)\n",
    "- [Rooted trees](#Rooted-trees)\n",
    "- [The adjacency matrix](#The-adjacency-matrix)\n",
    "- [Path matrices](#Path-matrices)\n",
    "- [Warshall shortest path algorithm](#Warshall-shortest-path-algorithm)"
   ]
  },
  {
   "cell_type": "markdown",
   "metadata": {},
   "source": [
    "## Introduction"
   ]
  },
  {
   "cell_type": "markdown",
   "metadata": {
    "collapsed": true
   },
   "source": [
    "We add a bit of direction to our graphs in this lesson by turning our edges into *one-way* roads.  These are termed **directed graphs** or **digraphs**."
   ]
  },
  {
   "cell_type": "markdown",
   "metadata": {},
   "source": [
    "We still have a set $ V $ of vertices or nodes and a set $ E $ of edges, although we might also refer to them as **directed edges** or **arcs**.  When we denote an edge in the form $ \\left( u,v \\right) $ we state that $ u $ is the **origin** or **initial point** and $ v $ is the **destination** or **terminal point**.  In this case we can also say that $ v $ is the **successor** of $ u $."
   ]
  },
  {
   "cell_type": "markdown",
   "metadata": {
    "collapsed": true
   },
   "source": [
    "Some textbooks also use the terms **adjacent to** and **adjacent from**, as in $ u $ is adjacent to $ v $ and $ v $ is adjacent from $ u $.  All the nodes that are adjacent from $ u $ are called the **adjacency list** or **successor list** of $ u $."
   ]
  },
  {
   "cell_type": "markdown",
   "metadata": {},
   "source": [
    "In the case where $ u = v $ we have a **directed loop** or simply a **loop**."
   ]
  },
  {
   "cell_type": "markdown",
   "metadata": {},
   "source": [
    "We indicate the direction of an edge with a tuple of the form $ \\left( u,v \\right) $, i.e. (below) $ E \\left( G \\right) = \\left\\{ {e}_{1}, {e}_{2} \\right\\} = \\left\\{ \\left( A, B \\right), \\left( B, B \\right) \\right\\} $."
   ]
  },
  {
   "cell_type": "code",
   "execution_count": 5,
   "metadata": {
    "collapsed": true
   },
   "outputs": [],
   "source": [
    "G = nx.DiGraph()\n",
    "\n",
    "G.add_nodes_from([\"A\", \"B\"])\n",
    "G.add_edges_from([(\"A\", \"B\"), (\"B\", \"B\")])"
   ]
  },
  {
   "cell_type": "code",
   "execution_count": 6,
   "metadata": {
    "collapsed": false
   },
   "outputs": [
    {
     "data": {
      "image/png": "[encoded data removed]",
      "text/plain": [
       "<matplotlib.figure.Figure at 0x10867deb8>"
      ]
     },
     "metadata": {},
     "output_type": "display_data"
    }
   ],
   "source": [
    "# Will be drawn differently every time\n",
    "nx.draw_networkx(G)\n",
    "plt.show();"
   ]
  },
  {
   "cell_type": "code",
   "execution_count": 7,
   "metadata": {
    "collapsed": false
   },
   "outputs": [
    {
     "data": {
      "text/plain": [
       "['B']"
      ]
     },
     "execution_count": 7,
     "metadata": {},
     "output_type": "execute_result"
    }
   ],
   "source": [
    "# List nodes with loops\n",
    "nx.DiGraph.nodes_with_selfloops(G)"
   ]
  },
  {
   "cell_type": "code",
   "execution_count": 8,
   "metadata": {
    "collapsed": false
   },
   "outputs": [
    {
     "data": {
      "image/png": "[encoded data removed]",
      "text/plain": [
       "<matplotlib.figure.Figure at 0x10b3364e0>"
      ]
     },
     "metadata": {},
     "output_type": "display_data"
    }
   ],
   "source": [
    "# A GN digraph with 5 nodes\n",
    "H = nx.gn_graph(5)\n",
    "nx.draw_networkx(H)\n",
    "plt.show();"
   ]
  },
  {
   "cell_type": "markdown",
   "metadata": {},
   "source": [
    "[Back to the top](#In-this-lesson)"
   ]
  },
  {
   "cell_type": "markdown",
   "metadata": {},
   "source": [
    "<hr>\n",
    "<h2>Degrees</h2>"
   ]
  },
  {
   "cell_type": "markdown",
   "metadata": {},
   "source": [
    "Since edges are directed every node might have a number of edges that originate from and a number of edges that might terminate in it.  The number of edges that originate from a node is the **indegree** of the node and the number of edges that terminate at a node is the node's **outdegree**."
   ]
  },
  {
   "cell_type": "markdown",
   "metadata": {},
   "source": [
    "The sum total of the indegrees equals the sum total of the outdegrees, which equals the numder of edges of a digraph."
   ]
  },
  {
   "cell_type": "markdown",
   "metadata": {},
   "source": [
    "A connected node with a zero outdegree (only edges that terminate with it) is termed a **sink**.  A node with a zero indegree (only edges that originate from it) is termed a **source**."
   ]
  },
  {
   "cell_type": "markdown",
   "metadata": {},
   "source": [
    "[Back to the top](#In-this-lesson)"
   ]
  },
  {
   "cell_type": "markdown",
   "metadata": {},
   "source": [
    "<hr>\n",
    "<h2>Paths, trails, cycles, and others</h2>"
   ]
  },
  {
   "cell_type": "markdown",
   "metadata": {},
   "source": [
    "These terms are taken from non-directed graphs.  So, a **path** is an alternating set of nodes and directed edges."
   ]
  },
  {
   "cell_type": "markdown",
   "metadata": {},
   "source": [
    "The **length** of a path counts the number of edges traversed."
   ]
  },
  {
   "cell_type": "markdown",
   "metadata": {},
   "source": [
    "A path with distinct nodes is a **simple path**, whereas a path with distinct edges is termed a **trail**.  If a node $ v $ can be reached along directed esges from a node $ u $, then by deleting redundant edges, we can create a simple path from $ u $ to $ v $."
   ]
  },
  {
   "cell_type": "markdown",
   "metadata": {},
   "source": [
    "If the first and last node in a path coincides we have a **closed path**.  If all the nodes vsisted are distinct then we have a **cycle**, also termed a **circuit**."
   ]
  },
  {
   "cell_type": "markdown",
   "metadata": {},
   "source": [
    "A path that visits all the nodes is termed a **spanning path**."
   ]
  },
  {
   "cell_type": "markdown",
   "metadata": {},
   "source": [
    "A path that connects nodes, but in which at least on edge is against its direction is termed a **semipath**."
   ]
  },
  {
   "cell_type": "markdown",
   "metadata": {},
   "source": [
    "[Back to the top](#In-this-lesson)"
   ]
  },
  {
   "cell_type": "markdown",
   "metadata": {},
   "source": [
    "<hr>\n",
    "<h2>Connectivity</h2>"
   ]
  },
  {
   "cell_type": "markdown",
   "metadata": {},
   "source": [
    "In a **strongly connected** graph we have that for any pair of nodes, $ u $ and $ v $, node $ v $ is reachable from a node $ u $ along a path, but the same node $ u $ is also reachable from the same node $ v $.  This can occur if and only if the graph has a closed, spanning path."
   ]
  },
  {
   "cell_type": "markdown",
   "metadata": {},
   "source": [
    "In a **unilaterally connected** graph we have that for any pair of nodes, $ u $ and $ v $, there is only in path in one of the directions.  This can occur if and only if the graph has a spanning path."
   ]
  },
  {
   "cell_type": "markdown",
   "metadata": {},
   "source": [
    "In a **weakly connected** graph we have that for any pair of nodes, we can only find a semipath.  This can occur if and only if the graph has a spanning semipath."
   ]
  },
  {
   "cell_type": "markdown",
   "metadata": {},
   "source": [
    "We note that there is an order to this connectivity, i.e. a strongly connected graph implies a unilaterally connected graph which implies a weakly connected graph.  A graph that is weakly connected but not unilaterally connected is termed **strictly weak connected** and a unilaterally connected graph that is not strongly connected is termed **strictly unilaterally connected.**"
   ]
  },
  {
   "cell_type": "markdown",
   "metadata": {},
   "source": [
    "From nondirected graphs we remember that a connected graph has a path between any of its nodes.  If we take a directed graph and alter the edges so that they are not directed and this non-directed version is found to be connected, then the original graph is weakly connected."
   ]
  },
  {
   "cell_type": "markdown",
   "metadata": {},
   "source": [
    "If a graph is cycle-free, it contains a source and a sink."
   ]
  },
  {
   "cell_type": "markdown",
   "metadata": {},
   "source": [
    "[Bakc to the top](#In-this-lesson)"
   ]
  },
  {
   "cell_type": "markdown",
   "metadata": {},
   "source": [
    "<hr>\n",
    "<h2>Rooted trees</h2>"
   ]
  },
  {
   "cell_type": "markdown",
   "metadata": {},
   "source": [
    "Frm the previous lesson we remember that a **tree** is a cycle-free connected graph.  We can turn a tree into a **rooted tree** by designating one of the nodes as a root.  From this root, which can be any of the nodes in a connected graph, there is a unique path to any of the other nodes.  If we choose a root this implies a direction to each of the other nodes."
   ]
  },
  {
   "cell_type": "markdown",
   "metadata": {},
   "source": [
    "The length of the unique path from the root to a node $ v $ is termed the **level** or the **depth** of the node and the maximum level or depth is the level of depth of the tree."
   ]
  },
  {
   "cell_type": "markdown",
   "metadata": {},
   "source": [
    "The nodes with degree $ 1 $ (other than the root) are termed the **leaves** of the tree and the edge from the root to these leaves are termed the **branches** of the tree."
   ]
  },
  {
   "cell_type": "code",
   "execution_count": 9,
   "metadata": {
    "collapsed": true
   },
   "outputs": [],
   "source": [
    "G = nx.Graph()\n",
    "\n",
    "G.add_nodes_from([\"a\", \"b\", \"c\", \"d\", \"e\", \"f\", \"g\", \"h\", \"i\", \"j\", \"r\"])\n",
    "G.add_edges_from([(\"r\", \"a\"), (\"r\", \"b\"), (\"r\", \"c\"), (\"a\", \"d\"), (\"a\", \"e\"),\n",
    "                  (\"e\", \"h\"), (\"b\", \"f\"), (\"c\", \"g\"),\n",
    "                 (\"g\", \"i\"), (\"g\", \"j\")])"
   ]
  },
  {
   "cell_type": "code",
   "execution_count": 10,
   "metadata": {
    "collapsed": false
   },
   "outputs": [
    {
     "data": {
      "image/png": "[encoded data removed]",
      "text/plain": [
       "<matplotlib.figure.Figure at 0x10b57f2b0>"
      ]
     },
     "metadata": {},
     "output_type": "display_data"
    }
   ],
   "source": [
    "nx.draw_networkx(G)\n",
    "plt.show();"
   ]
  },
  {
   "cell_type": "code",
   "execution_count": 11,
   "metadata": {
    "collapsed": false
   },
   "outputs": [
    {
     "data": {
      "text/plain": [
       "True"
      ]
     },
     "execution_count": 11,
     "metadata": {},
     "output_type": "execute_result"
    }
   ],
   "source": [
    "# Checking of G is a tree\n",
    "nx.is_tree(G)"
   ]
  },
  {
   "cell_type": "markdown",
   "metadata": {},
   "source": [
    "Note that ever node except the root is preceded by a unique node, but that every node can have more than one successor."
   ]
  },
  {
   "cell_type": "markdown",
   "metadata": {},
   "source": [
    "We can use these trees to look at all the possible. logical outcomes of a sequence of events.  Imagine that we have a binary outcome (either *success* of *failure*) and that an expreminet will rerun until we have two successes or failures in a row or a total of three of either.  The image below shows the logical outcomes."
   ]
  },
  {
   "cell_type": "code",
   "execution_count": 12,
   "metadata": {
    "collapsed": false
   },
   "outputs": [
    {
     "data": {
      "image/png": "[encoded data removed]",
      "text/plain": [
       "<IPython.core.display.Image object>"
      ]
     },
     "execution_count": 12,
     "metadata": {
      "image/png": {
       "width": 400
      }
     },
     "output_type": "execute_result"
    }
   ],
   "source": [
    "Image(\"StartExperiment.png\", width = 400)"
   ]
  },
  {
   "cell_type": "markdown",
   "metadata": {},
   "source": [
    "Nodes in a rooted tree can be ordered, giving every node an address.  The image below shows the addresses of each node."
   ]
  },
  {
   "cell_type": "code",
   "execution_count": 13,
   "metadata": {
    "collapsed": false
   },
   "outputs": [
    {
     "data": {
      "image/png": "[encoded data removed]",
      "text/plain": [
       "<IPython.core.display.Image object>"
      ]
     },
     "execution_count": 13,
     "metadata": {
      "image/png": {
       "width": 400
      }
     },
     "output_type": "execute_result"
    }
   ],
   "source": [
    "Image(\"OrderedRootedTrees.png\", width = 400)"
   ]
  },
  {
   "cell_type": "markdown",
   "metadata": {},
   "source": [
    "[Back to the top](#In-this-lesson)"
   ]
  },
  {
   "cell_type": "markdown",
   "metadata": {},
   "source": [
    "<hr>\n",
    "<h2>The adjacency matrix</h2>"
   ]
  },
  {
   "cell_type": "markdown",
   "metadata": {},
   "source": [
    "We complete an adjacency matrix as we did for non-directed graphs.  This can be kept as a sparse, scipy matrix or a numpy matrix."
   ]
  },
  {
   "cell_type": "code",
   "execution_count": 14,
   "metadata": {
    "collapsed": false
   },
   "outputs": [
    {
     "data": {
      "image/png": "[encoded data removed]",
      "text/plain": [
       "<matplotlib.figure.Figure at 0x10b6af710>"
      ]
     },
     "metadata": {},
     "output_type": "display_data"
    }
   ],
   "source": [
    "# G from above\n",
    "nx.draw_networkx(G)\n",
    "plt.show();"
   ]
  },
  {
   "cell_type": "code",
   "execution_count": 15,
   "metadata": {
    "collapsed": false
   },
   "outputs": [
    {
     "name": "stdout",
     "output_type": "stream",
     "text": [
      "  (0, 2)\t1\n",
      "  (1, 3)\t1\n",
      "  (2, 0)\t1\n",
      "  (2, 7)\t1\n",
      "  (3, 1)\t1\n",
      "  (3, 4)\t1\n",
      "  (4, 3)\t1\n",
      "  (4, 7)\t1\n",
      "  (4, 10)\t1\n",
      "  (5, 6)\t1\n",
      "  (6, 5)\t1\n",
      "  (6, 9)\t1\n",
      "  (6, 10)\t1\n",
      "  (7, 2)\t1\n",
      "  (7, 4)\t1\n",
      "  (7, 8)\t1\n",
      "  (8, 7)\t1\n",
      "  (9, 6)\t1\n",
      "  (10, 4)\t1\n",
      "  (10, 6)\t1\n"
     ]
    }
   ],
   "source": [
    "# Sparse scipy matrix\n",
    "print(nx.adj_matrix(G))"
   ]
  },
  {
   "cell_type": "code",
   "execution_count": 16,
   "metadata": {
    "collapsed": false
   },
   "outputs": [
    {
     "data": {
      "text/plain": [
       "matrix([[ 0.,  0.,  1.,  0.,  0.,  0.,  0.,  0.,  0.,  0.,  0.],\n",
       "        [ 0.,  0.,  0.,  1.,  0.,  0.,  0.,  0.,  0.,  0.,  0.],\n",
       "        [ 1.,  0.,  0.,  0.,  0.,  0.,  0.,  1.,  0.,  0.,  0.],\n",
       "        [ 0.,  1.,  0.,  0.,  1.,  0.,  0.,  0.,  0.,  0.,  0.],\n",
       "        [ 0.,  0.,  0.,  1.,  0.,  0.,  0.,  1.,  0.,  0.,  1.],\n",
       "        [ 0.,  0.,  0.,  0.,  0.,  0.,  1.,  0.,  0.,  0.,  0.],\n",
       "        [ 0.,  0.,  0.,  0.,  0.,  1.,  0.,  0.,  0.,  1.,  1.],\n",
       "        [ 0.,  0.,  1.,  0.,  1.,  0.,  0.,  0.,  1.,  0.,  0.],\n",
       "        [ 0.,  0.,  0.,  0.,  0.,  0.,  0.,  1.,  0.,  0.,  0.],\n",
       "        [ 0.,  0.,  0.,  0.,  0.,  0.,  1.,  0.,  0.,  0.,  0.],\n",
       "        [ 0.,  0.,  0.,  0.,  1.,  0.,  1.,  0.,  0.,  0.,  0.]])"
      ]
     },
     "execution_count": 16,
     "metadata": {},
     "output_type": "execute_result"
    }
   ],
   "source": [
    "nx.to_numpy_matrix(G)"
   ]
  },
  {
   "cell_type": "markdown",
   "metadata": {},
   "source": [
    "This matrix depends on the order of the nodes.  Different orders can be represented by interchanging rows or columns."
   ]
  },
  {
   "cell_type": "markdown",
   "metadata": {},
   "source": [
    "We can calculate the number of paths between vertices."
   ]
  },
  {
   "cell_type": "code",
   "execution_count": 17,
   "metadata": {
    "collapsed": true
   },
   "outputs": [],
   "source": [
    "G = nx.DiGraph()\n",
    "\n",
    "G.add_nodes_from([1, 2, 3, 4])\n",
    "G.add_edges_from([(1, 4), (2, 1), (2, 3), (2, 4),\n",
    "                  (3, 1), (3, 4), (4, 3), (4, 1)])"
   ]
  },
  {
   "cell_type": "code",
   "execution_count": 18,
   "metadata": {
    "collapsed": false
   },
   "outputs": [
    {
     "data": {
      "image/png": "[encoded data removed]",
      "text/plain": [
       "<matplotlib.figure.Figure at 0x10b61e630>"
      ]
     },
     "metadata": {},
     "output_type": "display_data"
    }
   ],
   "source": [
    "nx.draw_networkx(G)\n",
    "plt.show();"
   ]
  },
  {
   "cell_type": "code",
   "execution_count": 19,
   "metadata": {
    "collapsed": false
   },
   "outputs": [
    {
     "name": "stdout",
     "output_type": "stream",
     "text": [
      "[[ 0.  0.  0.  1.]\n",
      " [ 1.  0.  1.  1.]\n",
      " [ 1.  0.  0.  1.]\n",
      " [ 1.  0.  1.  0.]]\n"
     ]
    }
   ],
   "source": [
    "adjacency_matrix_G = nx.to_numpy_matrix(G)\n",
    "print(adjacency_matrix_G)"
   ]
  },
  {
   "cell_type": "markdown",
   "metadata": {},
   "source": [
    "Considering the first row, we note that node $ 1 $ does not loop to itself, nor does it have directed edges to nodes $ 2 $ or $ 3 $.  It does have to node $ 4 $, though.  This results in a first row of $ \\left[ 0,0,0,1 \\right] $."
   ]
  },
  {
   "cell_type": "markdown",
   "metadata": {},
   "source": [
    "If we multiply the adjacency matrix by itself we get a new matrix (see below)."
   ]
  },
  {
   "cell_type": "code",
   "execution_count": 20,
   "metadata": {
    "collapsed": false
   },
   "outputs": [
    {
     "data": {
      "text/plain": [
       "matrix([[ 1.,  0.,  1.,  0.],\n",
       "        [ 2.,  0.,  1.,  2.],\n",
       "        [ 1.,  0.,  1.,  1.],\n",
       "        [ 1.,  0.,  0.,  2.]])"
      ]
     },
     "execution_count": 20,
     "metadata": {},
     "output_type": "execute_result"
    }
   ],
   "source": [
    "adjacency_matrix_G * adjacency_matrix_G"
   ]
  },
  {
   "cell_type": "markdown",
   "metadata": {},
   "source": [
    "The square in `adjacency_matrix_G`<sup>2</sup> indicates paths of length $ 2 $.  Again, if we consider row $ 1 $ we see that there is $ 1 $ path from node $ 1 $ back to node $ 1 $.  It is via node $ 4 $ if we consider the image of the graph."
   ]
  },
  {
   "cell_type": "markdown",
   "metadata": {},
   "source": [
    "If we cube the adjacency matrix we get the number of paths of length $ 3 $ from a node to another and so on.  Remember that we have set up the graph so that we start at the row level and go to each colum for that row to read of the edge from node $ u $ to node $ v $."
   ]
  },
  {
   "cell_type": "markdown",
   "metadata": {},
   "source": [
    "If we add the matrices formed by successive powers, we get a matrix termed $ {B}_{r} $ such that if the adjacency matrix is termed $ A $, we have\n",
    "$$ {B}_{r} = {A} + {A}^{2} + {A}^{2} + \\dots + {A}^{r} $$\n",
    "such that the $ ij $<sup>th</sup> entry of $ {B}_{r} $ gives the number of paths of length $ r $ or less from node $ {v}_{i} $ to node $ {v}_{j} $."
   ]
  },
  {
   "cell_type": "markdown",
   "metadata": {},
   "source": [
    "[Back to the top](#In-this-lesson)"
   ]
  },
  {
   "cell_type": "markdown",
   "metadata": {},
   "source": [
    "<hr>\n",
    "<h2>Path matrices</h2>"
   ]
  },
  {
   "cell_type": "markdown",
   "metadata": {
    "collapsed": true
   },
   "source": [
    "A **path matrix**, also termed a **reachability matrix** is created in mucg the same way as an indentity matrix.  Here we state a $ 0 $ if one node is not reachable by from another and $ 1 $ if it is."
   ]
  },
  {
   "cell_type": "markdown",
   "metadata": {},
   "source": [
    "In our successive power matrix $ {B}_{r} $ above, let's consider a graph with $ m $ nodes and state that $ {B}_{m} = {A} + {A}^{2} + \\cdots + {A}^{m} $.  If we now have a graph with $ m $ nodes and suppose that there is a path from $ {v}_{i} $ to $ {v}_{j} $.  Such a simple path must have a length of $ m - 1 $ or less.  If $ {v}_{i} = {v}_{j} $ then we will have a cycle of length $ m $ or less.  This means that the path matrix and $ {B}_{m} $ have the same non-zero entries."
   ]
  },
  {
   "cell_type": "markdown",
   "metadata": {},
   "source": [
    "If we make a path matrix from $ G $ above (not available in `networkx`) we get\n",
    "$$ { P }_{ G }=\\begin{bmatrix} 1 & 0 & 1 & 1 \\\\ 1 & 0 & 1 & 1 \\\\ 1 & 0 & 1 & 1 \\\\ 1 & 0 & 1 & 1 \\end{bmatrix} $$"
   ]
  },
  {
   "cell_type": "code",
   "execution_count": 21,
   "metadata": {
    "collapsed": false
   },
   "outputs": [
    {
     "data": {
      "text/plain": [
       "matrix([[ 0.,  0.,  0.,  1.],\n",
       "        [ 1.,  0.,  1.,  1.],\n",
       "        [ 1.,  0.,  0.,  1.],\n",
       "        [ 1.,  0.,  1.,  0.]])"
      ]
     },
     "execution_count": 21,
     "metadata": {},
     "output_type": "execute_result"
    }
   ],
   "source": [
    "# Agacency matrix of G\n",
    "ag_mat = adjacency_matrix_G\n",
    "ag_mat"
   ]
  },
  {
   "cell_type": "markdown",
   "metadata": {},
   "source": [
    "Now, let's do $ {B}_{3} $\n",
    "$$ {B}_{3} = {A} + {A}^{2} + {A}^{3} $$"
   ]
  },
  {
   "cell_type": "code",
   "execution_count": 24,
   "metadata": {
    "collapsed": false
   },
   "outputs": [
    {
     "data": {
      "text/plain": [
       "matrix([[ 2.,  0.,  1.,  3.],\n",
       "        [ 6.,  0.,  4.,  6.],\n",
       "        [ 4.,  0.,  2.,  4.],\n",
       "        [ 4.,  0.,  3.,  3.]])"
      ]
     },
     "execution_count": 24,
     "metadata": {},
     "output_type": "execute_result"
    }
   ],
   "source": [
    "ag_mat + ag_mat**2 + ag_mat**3"
   ]
  },
  {
   "cell_type": "markdown",
   "metadata": {},
   "source": [
    "Node $ 2 $ was a source.  Note then how all the entries other than those in column $ 2 $ remain non-zero."
   ]
  },
  {
   "cell_type": "markdown",
   "metadata": {},
   "source": [
    "Btw, remember how a strongly connected digraph has a path from $ {v}_{i} $ to $ {v}_{j} $ and the otehr way around.  This means that for a digraph to be strongly connected, its path matrix cannot have any zero entries."
   ]
  },
  {
   "cell_type": "markdown",
   "metadata": {},
   "source": [
    "[Back to the top](#In-this-lesson)"
   ]
  },
  {
   "cell_type": "markdown",
   "metadata": {},
   "source": [
    "<hr>\n",
    "<h2>Warshall shortest path algorithm</h2>"
   ]
  },
  {
   "cell_type": "markdown",
   "metadata": {},
   "source": [
    "The warshall algorith finds teh shortest path in a digraph and can also deal with weighted digraphs.  It is more efficient than calculating the pwers of adjacency matrices."
   ]
  },
  {
   "cell_type": "markdown",
   "metadata": {},
   "source": [
    "For a digraph with $ m $ nodes we need to construct $ m $ square Boolean matrices $ {P}_{0}, {P}_{1}, {P}_{2}, \\cdots, {P}_{m} $.  If we take any of of the path matrices, say $ {P}_{k} $ then entry $ {P}_{k} \\left[ i,j \\right] $ is $ 1 $ if there is a simply path from $ {v}_{i} $ to $ {v}_{j} $ which does not use any nodes except possible $ {v}_{1}, {v}_{2}, \\cdots, {v}_{k} $ and $ 0 $ if there isn't."
   ]
  },
  {
   "cell_type": "markdown",
   "metadata": {},
   "source": [
    "So if $ k = 4 $, then $ {p}_{4} \\left[ i,j \\right] = 1 $ if there is a simple path from $ {v}_{i} $ to $ {v}_{j} $ which does not use any other nodes, except possibly $ {v}_{1}, {v}_{2}, {v}_{3} $ and $ {v}_{4} $."
   ]
  },
  {
   "cell_type": "markdown",
   "metadata": {},
   "source": [
    "The first path matrix $ {P}_{0} = A $, the adjacency matrix.  The last path matrix $ {P}_{m} = P $."
   ]
  },
  {
   "cell_type": "markdown",
   "metadata": {},
   "source": [
    "$ {P}_{k} \\left[ i,j \\right] = 1 $ can only occur if there is a simple path from $ {v}_{i} $ to $ {v}_{j} $ which does not use any other nodes excepts perhaps $ {v}_{1}, {v}_{2}, \\cdots , {v}_{k-1} $ or if there is a simple path from $ {v}_{i} $ to $ {v}_{k} $ and a simple path from $ {v}_{k} $ to $ {v}_{j} $ where each simple path does not use any other nodes except perhaps $ {v}_{1}, {v}_{2}, \\cdots , {v}_{k-1} $"
   ]
  },
  {
   "cell_type": "code",
   "execution_count": 25,
   "metadata": {
    "collapsed": false
   },
   "outputs": [
    {
     "data": {
      "text/plain": [
       "matrix([[  0.,  inf,   2.,   1.],\n",
       "        [  1.,   0.,   1.,   1.],\n",
       "        [  1.,  inf,   0.,   1.],\n",
       "        [  1.,  inf,   1.,   0.]])"
      ]
     },
     "execution_count": 25,
     "metadata": {},
     "output_type": "execute_result"
    }
   ],
   "source": [
    "nx.floyd_warshall_numpy(G)"
   ]
  },
  {
   "cell_type": "code",
   "execution_count": null,
   "metadata": {
    "collapsed": true
   },
   "outputs": [],
   "source": []
  }
 ],
 "metadata": {
  "kernelspec": {
   "display_name": "Python 3",
   "language": "python",
   "name": "python3"
  },
  "language_info": {
   "codemirror_mode": {
    "name": "ipython",
    "version": 3
   },
   "file_extension": ".py",
   "mimetype": "text/x-python",
   "name": "python",
   "nbconvert_exporter": "python",
   "pygments_lexer": "ipython3",
   "version": "3.5.1"
  }
 },
 "nbformat": 4,
 "nbformat_minor": 0
}
