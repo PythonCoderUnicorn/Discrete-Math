{
 "cells": [
  {
   "cell_type": "markdown",
   "metadata": {},
   "source": [
    "+ This Jupyter notebook<sup>[1]</sup> is part of the Klopper Letures on Discrete Matheamtics and covers *probability*\n",
    "+ Created by me, Dr Juan H Klopper\n",
    "    + Head of Acute Care Surgery\n",
    "    + Groote Schuur Hospital\n",
    "    + University Cape Town\n",
    "    + <a href=\"mailto:juan.klopper@uct.ac.za\">Email me with your thoughts, comments, suggestions and corrections</a> \n",
    "<a rel=\"license\" href=\"http://creativecommons.org/licenses/by-nc/4.0/\"><img alt=\"Creative Commons Licence\" style=\"border-width:0\" src=\"https://i.creativecommons.org/l/by-nc/4.0/88x31.png\" /></a><br /><span xmlns:dct=\"http://purl.org/dc/terms/\" href=\"http://purl.org/dc/dcmitype/InteractiveResource\" property=\"dct:title\" rel=\"dct:type\">The Klopper Lectures on Discrete Mathematics</span> <span xmlns:cc=\"http://creativecommons.org/ns#\" property=\"cc:attributionName\"></span> study notes is licensed under a <a rel=\"license\" href=\"http://creativecommons.org/licenses/by-nc/4.0/\">Creative Commons Attribution-NonCommercial 4.0 International License</a>.\n",
    "\n",
    "+ [1] Fernando Pérez, Brian E. Granger, IPython: A System for Interactive Scientific Computing, Computing in Science and Engineering, vol. 9, no. 3, pp. 21-29, May/June 2007, doi:10.1109/MCSE.2007.53. URL: http://ipython.org"
   ]
  },
  {
   "cell_type": "code",
   "execution_count": 1,
   "metadata": {
    "collapsed": false
   },
   "outputs": [
    {
     "data": {
      "text/html": [
       "<link href='http://fonts.googleapis.com/css?family=Alegreya+Sans:100,300,400,500,700,800,900,100italic,300italic,400italic,500italic,700italic,800italic,900italic' rel='stylesheet' type='text/css'>\n",
       "<link href='http://fonts.googleapis.com/css?family=Arvo:400,700,400italic' rel='stylesheet' type='text/css'>\n",
       "<link href='http://fonts.googleapis.com/css?family=PT+Mono' rel='stylesheet' type='text/css'>\n",
       "<link href='http://fonts.googleapis.com/css?family=Shadows+Into+Light' rel='stylesheet' type='text/css'>\n",
       "<link href='http://fonts.googleapis.com/css?family=Philosopher:400,700,400italic,700italic' rel='stylesheet' type='text/css'>\n",
       "\n",
       "<style>\n",
       "\n",
       "@font-face {\n",
       "    font-family: \"Computer Modern\";\n",
       "    src: url('http://mirrors.ctan.org/fonts/cm-unicode/fonts/otf/cmunss.otf');\n",
       "}\n",
       "\n",
       "#notebook_panel { /* main background */\n",
       "    background: #ddd;\n",
       "    color: #000000;\n",
       "}\n",
       "\n",
       "\n",
       "\n",
       "/* Formatting for header cells */\n",
       ".text_cell_render h1 {\n",
       "    font-family: 'Philosopher', sans-serif;\n",
       "    font-weight: 400;\n",
       "    font-size: 2.2em;\n",
       "    line-height: 100%;\n",
       "    color: rgb(0, 80, 120);\n",
       "    margin-bottom: 0.1em;\n",
       "    margin-top: 0.1em;\n",
       "    display: block;\n",
       "}\t\n",
       ".text_cell_render h2 {\n",
       "    font-family: 'Philosopher', serif;\n",
       "    font-weight: 400;\n",
       "    font-size: 1.9em;\n",
       "    line-height: 100%;\n",
       "    color: rgb(200,100,0);\n",
       "    margin-bottom: 0.1em;\n",
       "    margin-top: 0.1em;\n",
       "    display: block;\n",
       "}\t\n",
       "\n",
       ".text_cell_render h3 {\n",
       "    font-family: 'Philosopher', serif;\n",
       "    margin-top:12px;\n",
       "    margin-bottom: 3px;\n",
       "    font-style: italic;\n",
       "    color: rgb(94,127,192);\n",
       "}\n",
       "\n",
       ".text_cell_render h4 {\n",
       "    font-family: 'Philosopher', serif;\n",
       "}\n",
       "\n",
       ".text_cell_render h5 {\n",
       "    font-family: 'Alegreya Sans', sans-serif;\n",
       "    font-weight: 300;\n",
       "    font-size: 16pt;\n",
       "    color: grey;\n",
       "    font-style: italic;\n",
       "    margin-bottom: .1em;\n",
       "    margin-top: 0.1em;\n",
       "    display: block;\n",
       "}\n",
       "\n",
       ".text_cell_render h6 {\n",
       "    font-family: 'PT Mono', sans-serif;\n",
       "    font-weight: 300;\n",
       "    font-size: 10pt;\n",
       "    color: grey;\n",
       "    margin-bottom: 1px;\n",
       "    margin-top: 1px;\n",
       "}\n",
       "\n",
       ".CodeMirror{\n",
       "        font-family: \"PT Mono\";\n",
       "        font-size: 100%;\n",
       "}\n",
       "\n",
       "</style>\n",
       "\n"
      ],
      "text/plain": [
       "<IPython.core.display.HTML object>"
      ]
     },
     "execution_count": 1,
     "metadata": {},
     "output_type": "execute_result"
    }
   ],
   "source": [
    "from IPython.core.display import HTML\n",
    "#css_file = 'numericalmoocstyle.css'\n",
    "#css_file = \"custom.css\"\n",
    "css_file = 'style.css'\n",
    "HTML(open(css_file, 'r').read())"
   ]
  },
  {
   "cell_type": "code",
   "execution_count": 1,
   "metadata": {
    "collapsed": true
   },
   "outputs": [],
   "source": [
    "import sympy as sym"
   ]
  },
  {
   "cell_type": "code",
   "execution_count": 2,
   "metadata": {
    "collapsed": false
   },
   "outputs": [],
   "source": [
    "# Importing additional sympy, scipy and math functions, as well as plotting functions\n",
    "from sympy.stats import Coin, density, Die, P, DiscreteUniform, Binomial, Normal, E\n",
    "from math import factorial\n",
    "from scipy.stats import binom\n",
    "import matplotlib.pyplot as plt\n",
    "import seaborn as sns\n",
    "sns.set_style(\"white\")\n",
    "sns.set_context(font_scale = 2)\n",
    "%matplotlib inline"
   ]
  },
  {
   "cell_type": "code",
   "execution_count": 3,
   "metadata": {
    "collapsed": true
   },
   "outputs": [],
   "source": [
    "sym.init_printing(use_latex = \"mathjax\")"
   ]
  },
  {
   "cell_type": "markdown",
   "metadata": {},
   "source": [
    "# Probability"
   ]
  },
  {
   "cell_type": "markdown",
   "metadata": {},
   "source": [
    "## In this lesson"
   ]
  },
  {
   "cell_type": "markdown",
   "metadata": {},
   "source": [
    "Follow these links\n",
    "- [Introduction](#Introduction)\n",
    "- [Experiments](#Experiments)\n",
    "- [Probability of an event](#Probability-of-an-event)\n",
    "- [The principles of probability](#The-principles-of-probability)\n",
    "- [Conditional probability](#Conditional-probability)\n",
    "- [Independent events](#Independent-events)\n",
    "- [The binomial distribution](#The-binomial-distribution)\n",
    "- [Random variables](#Random-variables)\n",
    "- [Probability distributions](#Probability-distributions)\n",
    "- [The expectation value of a random variable](#The-expectation-value-of-a-random-variable)\n",
    "- [The variance and standard deviation of a random variable](#The-variance-and-standard-deviation-of-a-random-variable)\n",
    "- [The inequality of Chebyshev](#The-inequality-of-Chebyshev)\n",
    "- [The rule of Bayes](#The-rule-of-Bayes)"
   ]
  },
  {
   "cell_type": "markdown",
   "metadata": {},
   "source": [
    "## Introduction"
   ]
  },
  {
   "cell_type": "code",
   "execution_count": null,
   "metadata": {
    "collapsed": true
   },
   "outputs": [],
   "source": []
  },
  {
   "cell_type": "markdown",
   "metadata": {},
   "source": [
    "[Back to the top](#In-this-lesson)"
   ]
  },
  {
   "cell_type": "markdown",
   "metadata": {
    "collapsed": true
   },
   "source": [
    "## Experiments"
   ]
  },
  {
   "cell_type": "markdown",
   "metadata": {},
   "source": [
    "**Experiments** are controlled actions that lead to the creation of data.  An **Outcome** or **Sample Point** is the actual data that we can record.<p/>\n",
    "The **Sample Space** is the elements that make up to possible outcomes.  So for flipping a coin we have the outcome sample space $ S = \\left\\{ H,T \\right\\} $, with $ H $ for *heads* and $ T $ for *tails*.  The casting of a normal die results in the sample space $  S = \\left\\{ 1,2,3,4,5,6 \\right\\} $.  Note, though, that as with the coin flip, we can have a different sample space, depending on what our experimental question is.  Our outcome sample space might be $ S = \\left\\{ Y, N \\right\\} $ for the coin flip experiment pertaining to the research question that tasks us with flipping the coin twice and indicating a $ Y $ if both flips return either a head or a tail and $ N $ in case the two flips land with different face-up values.  In the case of the cast of a die, the research question might be related to the value that lands face-up being *odd* or *even*.  Then the sample space would be $ S = \\left\\{ O, E \\right\\} $.  So the same physical experiment can have a different outcome sample space.<p/>\n",
    "An **Equiprobable Sample Space** is defines as a sample space in which each element has an equal probability of being an outcome.  For example with the flip of a fair coin, both *heads* and *tails* have an equal probabilitu of being found face-up.<p/>\n",
    "In *sympy* we have a variety of in-built functions to deal with statistics (probability).  One of them is the ```Coin()``` function, with the equiprobably sample space $ S = \\left\\{ H,T \\right\\} $."
   ]
  },
  {
   "cell_type": "code",
   "execution_count": 4,
   "metadata": {
    "collapsed": false
   },
   "outputs": [
    {
     "data": {
      "text/latex": [
       "$$C$$"
      ],
      "text/plain": [
       "C"
      ]
     },
     "execution_count": 4,
     "metadata": {},
     "output_type": "execute_result"
    }
   ],
   "source": [
    "# Defining a fair coin\n",
    "C = Coin(\"C\", p = 0.5)\n",
    "C"
   ]
  },
  {
   "cell_type": "code",
   "execution_count": 5,
   "metadata": {
    "collapsed": false
   },
   "outputs": [
    {
     "data": {
      "text/latex": [
       "$$\\left \\{ H : 0.5, \\quad T : 0.5\\right \\}$$"
      ],
      "text/plain": [
       "{H: 0.5, T: 0.5}"
      ]
     },
     "execution_count": 5,
     "metadata": {},
     "output_type": "execute_result"
    }
   ],
   "source": [
    "# The density function of C expressed as a dict\n",
    "density(C).dict"
   ]
  },
  {
   "cell_type": "code",
   "execution_count": 6,
   "metadata": {
    "collapsed": true
   },
   "outputs": [],
   "source": [
    "# Creating an unfair coin\n",
    "uC = Coin(\"uC\", p = 6/10)"
   ]
  },
  {
   "cell_type": "code",
   "execution_count": 7,
   "metadata": {
    "collapsed": false
   },
   "outputs": [
    {
     "data": {
      "text/latex": [
       "$$\\left \\{ H : 0.6, \\quad T : 0.4\\right \\}$$"
      ],
      "text/plain": [
       "{H: 0.6, T: 0.4}"
      ]
     },
     "execution_count": 7,
     "metadata": {},
     "output_type": "execute_result"
    }
   ],
   "source": [
    "density(uC).dict"
   ]
  },
  {
   "cell_type": "markdown",
   "metadata": {},
   "source": [
    "We can add mathematical notation to this discussion.  Consider the sample space of all the Cartesian point $ x $ and $ y $ that fall within a circle centered around the origin and with a radius of $ 3 $.  It would simply be $$ S = \\left\\{ \\left( x,y \\right) \\quad | \\quad {x}^{2} + {y}^{2} < {3}^{2} \\right\\} $$"
   ]
  },
  {
   "cell_type": "markdown",
   "metadata": {},
   "source": [
    "An **Event** is a subset of a sample space.  For the experiment that relates to the catsing of a die, with the sample space being $  S = \\left\\{ 1,2,3,4,5,6 \\right\\} $, we can create an event that relates to all values greater than or equal to $ 4 $.  We might then write the event as $ {E}_{1} = \\left\\{ 4,5,6 \\right\\} $, with $ {E}_{1} \\subset  S $.  A sample space is the an event containing all possible outcomes."
   ]
  },
  {
   "cell_type": "markdown",
   "metadata": {},
   "source": [
    "We can then have $ {E}_{1} \\subseteq  S $ and $ {E}_{1} = \\emptyset $."
   ]
  },
  {
   "cell_type": "markdown",
   "metadata": {},
   "source": [
    "Let's write a python™ function that casts a pair of dice and tells us how many ways there are that can make up the value which we pass as an argument.  The value that we pass as an argument results in an event."
   ]
  },
  {
   "cell_type": "code",
   "execution_count": 8,
   "metadata": {
    "collapsed": false
   },
   "outputs": [],
   "source": [
    "def dice(x):\n",
    "    number = 0\n",
    "    for i in range(1, 7): # values 1, 2, 3, 4, 5, and 6 (7 is excluded)\n",
    "        for j in range(1, 7):\n",
    "            if i + j == x:\n",
    "                number += 1\n",
    "            else:\n",
    "                number = number\n",
    "    return number"
   ]
  },
  {
   "cell_type": "code",
   "execution_count": 9,
   "metadata": {
    "collapsed": false
   },
   "outputs": [
    {
     "data": {
      "text/latex": [
       "$$6$$"
      ],
      "text/plain": [
       "6"
      ]
     },
     "execution_count": 9,
     "metadata": {},
     "output_type": "execute_result"
    }
   ],
   "source": [
    "# In how many ways can be roll a 7?\n",
    "dice(7)"
   ]
  },
  {
   "cell_type": "markdown",
   "metadata": {},
   "source": [
    "Here is a function that also shows us the actual values."
   ]
  },
  {
   "cell_type": "code",
   "execution_count": 10,
   "metadata": {
    "collapsed": false
   },
   "outputs": [],
   "source": [
    "def dicepair(x):\n",
    "    number = 0\n",
    "    for i in range(1, 7):\n",
    "        for j in range(1, 7):\n",
    "            if i + j == x:\n",
    "                number += 1\n",
    "                print(i,j) # Printing the value pairs to the screen\n",
    "            else:\n",
    "                number = number\n",
    "    return number"
   ]
  },
  {
   "cell_type": "code",
   "execution_count": 11,
   "metadata": {
    "collapsed": false
   },
   "outputs": [
    {
     "name": "stdout",
     "output_type": "stream",
     "text": [
      "1 6\n",
      "2 5\n",
      "3 4\n",
      "4 3\n",
      "5 2\n",
      "6 1\n"
     ]
    },
    {
     "data": {
      "text/latex": [
       "$$6$$"
      ],
      "text/plain": [
       "6"
      ]
     },
     "execution_count": 11,
     "metadata": {},
     "output_type": "execute_result"
    }
   ],
   "source": [
    "dicepair(7)"
   ]
  },
  {
   "cell_type": "markdown",
   "metadata": {},
   "source": [
    "We can also ask for an event that is a complement.  So given our python™ function above we can ask for all the pairs that do not add to the argument value."
   ]
  },
  {
   "cell_type": "code",
   "execution_count": 12,
   "metadata": {
    "collapsed": true
   },
   "outputs": [],
   "source": [
    "def dicepaircomplement(x):\n",
    "    number = 0\n",
    "    for i in range(1, 7):\n",
    "        for j in range(1, 7):\n",
    "            if i + j != x:\n",
    "                number += 1\n",
    "                print(i, j)\n",
    "            else:\n",
    "                number = number\n",
    "    return number"
   ]
  },
  {
   "cell_type": "code",
   "execution_count": 13,
   "metadata": {
    "collapsed": false
   },
   "outputs": [
    {
     "name": "stdout",
     "output_type": "stream",
     "text": [
      "1 1\n",
      "1 2\n",
      "1 3\n",
      "1 4\n",
      "1 5\n",
      "2 1\n",
      "2 2\n",
      "2 3\n",
      "2 4\n",
      "2 6\n",
      "3 1\n",
      "3 2\n",
      "3 3\n",
      "3 5\n",
      "3 6\n",
      "4 1\n",
      "4 2\n",
      "4 4\n",
      "4 5\n",
      "4 6\n",
      "5 1\n",
      "5 3\n",
      "5 4\n",
      "5 5\n",
      "5 6\n",
      "6 2\n",
      "6 3\n",
      "6 4\n",
      "6 5\n",
      "6 6\n"
     ]
    },
    {
     "data": {
      "text/latex": [
       "$$30$$"
      ],
      "text/plain": [
       "30"
      ]
     },
     "execution_count": 13,
     "metadata": {},
     "output_type": "execute_result"
    }
   ],
   "source": [
    "dicepaircomplement(7)"
   ]
  },
  {
   "cell_type": "markdown",
   "metadata": {},
   "source": [
    "We can also consider the intersection of events.  Continuing with the dice experiment we can look at the intersection between the events *total (sum of two dice) larger than* $ 6 $ and *both values equal*.  The intersection of these two events would be $ \\left\\{ \\left( 4,4 \\right), \\left( 5,5 \\right), \\left( 6,6 \\right) \\right\\} $."
   ]
  },
  {
   "cell_type": "code",
   "execution_count": 14,
   "metadata": {
    "collapsed": true
   },
   "outputs": [],
   "source": [
    "def dicepairequallarger(x):\n",
    "    number = 0\n",
    "    for i in range(1, 7):\n",
    "        for j in range(1, 7):\n",
    "            if i + j > x and i == j:\n",
    "                number += 1\n",
    "                print(i,j)\n",
    "            else:\n",
    "                number = number\n",
    "    return number"
   ]
  },
  {
   "cell_type": "code",
   "execution_count": 15,
   "metadata": {
    "collapsed": false
   },
   "outputs": [
    {
     "name": "stdout",
     "output_type": "stream",
     "text": [
      "4 4\n",
      "5 5\n",
      "6 6\n"
     ]
    },
    {
     "data": {
      "text/latex": [
       "$$3$$"
      ],
      "text/plain": [
       "3"
      ]
     },
     "execution_count": 15,
     "metadata": {},
     "output_type": "execute_result"
    }
   ],
   "source": [
    "dicepairequallarger(6)"
   ]
  },
  {
   "cell_type": "markdown",
   "metadata": {},
   "source": [
    "Remember that some events are mutually exclusive and have an intersection which is $ \\emptyset $."
   ]
  },
  {
   "cell_type": "markdown",
   "metadata": {},
   "source": [
    "If we have an intersection of events, we must have a union.  Let's create a python™ function that returns the pairs that are either larger than an argument value or both values are equal."
   ]
  },
  {
   "cell_type": "code",
   "execution_count": 16,
   "metadata": {
    "collapsed": true
   },
   "outputs": [],
   "source": [
    "def dicepairunion(x):\n",
    "    number = 0\n",
    "    for i in range(1, 7):\n",
    "        for j in range(1, 7):\n",
    "            if i + j > x or i == j:\n",
    "                number += 1\n",
    "                print(i,j)\n",
    "            else:\n",
    "                number = number\n",
    "    return number"
   ]
  },
  {
   "cell_type": "code",
   "execution_count": 17,
   "metadata": {
    "collapsed": false
   },
   "outputs": [
    {
     "name": "stdout",
     "output_type": "stream",
     "text": [
      "1 1\n",
      "2 2\n",
      "3 3\n",
      "4 4\n",
      "5 5\n",
      "5 6\n",
      "6 5\n",
      "6 6\n"
     ]
    },
    {
     "data": {
      "text/latex": [
       "$$8$$"
      ],
      "text/plain": [
       "8"
      ]
     },
     "execution_count": 17,
     "metadata": {},
     "output_type": "execute_result"
    }
   ],
   "source": [
    "dicepairunion(10)"
   ]
  },
  {
   "cell_type": "markdown",
   "metadata": {},
   "source": [
    "As with set theory we have some rules for combining events.  If $ S $ is the sample space and $ A $ is a given event we have:\n",
    "- $ A \\cap \\emptyset = \\emptyset $\n",
    "- $ A \\cup \\emptyset = A $\n",
    "- $ A \\cap A' = \\emptyset $\n",
    "- $ A \\cup A' = S $\n",
    "- $ S' = \\emptyset $\n",
    "- $ \\emptyset ' = S $\n",
    "- $ \\left( A' \\right) ' = A $\n",
    "- $ \\left( A \\cap B \\right) ' = A' \\cup B' $\n",
    "- $ \\left( A \\cup B \\right) ' = A' \\cap B' $"
   ]
  },
  {
   "cell_type": "markdown",
   "metadata": {},
   "source": [
    "[Back to the top](#In-this-lesson)"
   ]
  },
  {
   "cell_type": "markdown",
   "metadata": {},
   "source": [
    "## Probability of an event"
   ]
  },
  {
   "cell_type": "markdown",
   "metadata": {},
   "source": [
    "The **Probability** of an event or the likelihood of an event is the ratio between the cardinality of the event and the sample space (given that both are finite values) $$ {P}{\\left( A \\right)} = \\frac{\\left| A \\right|}{\\left| S \\right|} $$"
   ]
  },
  {
   "cell_type": "markdown",
   "metadata": {},
   "source": [
    "We can use the ```sympy.stats.Die``` function to look at probabilities."
   ]
  },
  {
   "cell_type": "code",
   "execution_count": 18,
   "metadata": {
    "collapsed": true
   },
   "outputs": [],
   "source": [
    "# Create computer variable X\n",
    "# It is a fair die with 6 sides\n",
    "X = Die(\"X\", 6)"
   ]
  },
  {
   "cell_type": "code",
   "execution_count": 19,
   "metadata": {
    "collapsed": false
   },
   "outputs": [
    {
     "data": {
      "text/latex": [
       "$$\\frac{1}{2}$$"
      ],
      "text/plain": [
       "1/2"
      ]
     },
     "execution_count": 19,
     "metadata": {},
     "output_type": "execute_result"
    }
   ],
   "source": [
    "# Probability of rolling a 4, 5, or a 6\n",
    "P(X > 3)"
   ]
  },
  {
   "cell_type": "markdown",
   "metadata": {},
   "source": [
    "We can also the the ```sympy.stats.DiscreteUniform``` distribution.  Below we create such a distribution with valsue from $ 1$ through $ 6 $ and then use the ```density``` function (with a ```dict``` method to list the possible outcomes and their likelihood)."
   ]
  },
  {
   "cell_type": "code",
   "execution_count": 20,
   "metadata": {
    "collapsed": true
   },
   "outputs": [],
   "source": [
    "X = DiscreteUniform(\"X\", range(1, 7))"
   ]
  },
  {
   "cell_type": "code",
   "execution_count": 21,
   "metadata": {
    "collapsed": false
   },
   "outputs": [
    {
     "data": {
      "text/latex": [
       "$$\\left \\{ 1 : \\frac{1}{6}, \\quad 2 : \\frac{1}{6}, \\quad 3 : \\frac{1}{6}, \\quad 4 : \\frac{1}{6}, \\quad 5 : \\frac{1}{6}, \\quad 6 : \\frac{1}{6}\\right \\}$$"
      ],
      "text/plain": [
       "{1: 1/6, 2: 1/6, 3: 1/6, 4: 1/6, 5: 1/6, 6: 1/6}"
      ]
     },
     "execution_count": 21,
     "metadata": {},
     "output_type": "execute_result"
    }
   ],
   "source": [
    "density(X).dict"
   ]
  },
  {
   "cell_type": "markdown",
   "metadata": {},
   "source": [
    "The probability when summing all the events equals $ 1 $.  In the case of a die, the sample space has $ 6 $ elements.  They all have a probability of $ \\frac{1}{6} $ of landing face-up when the die is cast.  Adding all the probabilities equals $ \\frac{1}{6} + \\frac{1}{6}  + \\frac{1}{6}  + \\frac{1}{6}  + \\frac{1}{6}  + \\frac{1}{6} = \\frac{6}{6} = 1  $"
   ]
  },
  {
   "cell_type": "code",
   "execution_count": 22,
   "metadata": {
    "collapsed": false
   },
   "outputs": [
    {
     "data": {
      "text/latex": [
       "$$1$$"
      ],
      "text/plain": [
       "1"
      ]
     },
     "execution_count": 22,
     "metadata": {},
     "output_type": "execute_result"
    }
   ],
   "source": [
    "# We could ask the probability of casting value of more than 0\n",
    "P(X > 0)"
   ]
  },
  {
   "cell_type": "markdown",
   "metadata": {},
   "source": [
    "A classical examples asks for the probability that, assuming a non-leap year, $ n $  persons in a room share a birthdate.  This examples shows us that it is sometimes easier to consider the complement of the event, i.e. probability of not sharing a birthday.<p/>\n",
    "We shall start small and consider only a year that contains $ 3 $ days and with a room filled with $ 2 $ persons.  Either they share a birthday on one of these $ 3 $ days or they don't.  So the possible outcomes if we make pairs of $ 0 $ and $ 1 $ values for the *not birthday* and *birthday* values are\n",
    "$$ \\left[ \\left( 1,1 \\right) ,\\left( 0,0 \\right) ,\\left( 0,0 \\right)  \\right] \\\\ \\left[ \\left( 1,0 \\right) ,\\left( 0,1 \\right) ,\\left( 0,0 \\right)  \\right] \\\\ \\left[ \\left( 1,0 \\right) ,\\left( 0,0 \\right) ,\\left( 0,1 \\right)  \\right] \\\\ \\left[ \\left( 0,1 \\right) ,\\left( 1,0 \\right) ,\\left( 0,0 \\right)  \\right] \\\\ \\left[ \\left( 0,0 \\right) ,\\left( 1,1 \\right) ,\\left( 0,0 \\right)  \\right] \\\\ \\left[ \\left( 0,0 \\right) ,\\left( 1,0 \\right) ,\\left( 0,1 \\right)  \\right] \\\\ \\left[ \\left( 0,1 \\right) ,\\left( 0,0 \\right) ,\\left( 1,0 \\right)  \\right] \\\\ \\left[ \\left( 0,0 \\right) ,\\left( 0,1 \\right) ,\\left( 1,0 \\right)  \\right] \\\\ \\left[ \\left( 0,0 \\right) ,\\left( 0,0 \\right) ,\\left( 1,1 \\right)  \\right] $$\n",
    "There are $ 9 $ possible outcomes, which is calculated from the days and the number of persons as $ {3}^{2} $.  So for a year and $ n $ persons, we will have $ {365}^{n} $ possible outcomes."
   ]
  },
  {
   "cell_type": "markdown",
   "metadata": {},
   "source": [
    "\n",
    "Start with the first person.  We will make them all female, so that we can stick with *she*.  As for the first, then, she has $ 3 $ days to have a birthday on.  For the second, well she only has $ 3 - 1 = 2 $ days on which not to share a birthday.  So, for not sharing a birthday we have\n",
    "$$ \\frac{3 \\times 2}{{3}^{2}} = \\frac{6}{9} $$\n",
    "If we look at the table above, there are indeed $ 6 $ out of the possible $ 9 $ outcomes where a birtday is not shared.  To calculate the probability of a shared birthday then, we simply subtract from $ 1 $, so the probability of the two sharing a birthday in this absurd year is\n",
    "$$ 1 - \\frac{3 \\times 2}{{3}^{2}} = \\frac{3}{9} $$"
   ]
  },
  {
   "cell_type": "markdown",
   "metadata": {},
   "source": [
    "Ramping this up to $ n $ persons and $ 365 $ days we get\n",
    "$$ 1 - \\frac{365 \\times 364 \\times \\dots \\times \\left( 365 - n + 1 \\right)}{{365}^{n}} $$"
   ]
  },
  {
   "cell_type": "markdown",
   "metadata": {},
   "source": [
    "[Back to the top](#In-this-lesson)"
   ]
  },
  {
   "cell_type": "markdown",
   "metadata": {},
   "source": [
    "## The principles of events and probability"
   ]
  },
  {
   "cell_type": "markdown",
   "metadata": {},
   "source": [
    "If we simply consider events (not their probability of occuring), we have the following\n",
    "- An event is a subset, $ E $, of a sample space, $ S $\n",
    "- The event, $ E $, occurs when the outcome of an experiment lies in $ E $\n",
    "- If we have two events, $ E $ and $ F $ of a sample space, $ S $, we can define a new event $ E \\cup F $, such that $ E \\cup F $ will occur if either $ E $ or $ F $ occurs (referred to as the union of events)\n",
    "- We can also define a new event, sometimes written as $ EF $ or $ E \\cap F $ which is the intersection of events $ E $ and $ F $\n",
    "- The event $ EF $ will occur only if both $ E $ and $ F $ occur\n",
    "- If $ EF = \\emptyset $, then $ E $ and $ F $ are mutually exclusive\n",
    "- Considering more than two event we have $ { \\cup  }_{ n=1 }^{ \\infty  }{ E }_{ n } $ and $ { \\cap  }_{ n=1 }^{ \\infty  }{ E }_{ n } $\n",
    "- Lastly, we have the event $ {E}^{C} $ that only occurs when $ E $ does not occur"
   ]
  },
  {
   "cell_type": "markdown",
   "metadata": {},
   "source": [
    "The principles of probability can be stated as\n",
    "- For any event $ A $ we have $ 0 \\le {P}{\\left( A \\right)} \\le 1 $\n",
    "- The probabilility of a whole sample space is $ 1 $, i.e. $ {P}{\\left( S \\right)} = 1 $\n",
    "- For a sequence of mutually exclusive events $ {A}_{1},{A}_{2}, \\dots $ we have $ {P}{\\left( {A}_{1} \\cup {A}_{2} \\cup \\dots \\right)} = {P}{\\left( {A}_{1} \\right)} + {P}{\\left( {A}_{2} \\right)} + \\dots $ or $ P\\left( { \\cup  }_{ n=1 }^{ \\infty  }{ E }_{ n } \\right) =\\sum _{ n=1 }^{ \\infty  }{ P\\left( { E }_{ n } \\right)  }  $ (this means that the sets are disjoint)\n",
    "- Generalizing this to any two sets, we have the **Addition Principle** $ {P}{\\left( A \\cup B \\right)} = {P}{\\left( A \\right)} + {P}{\\left( B \\right)} - {P}{\\left( A \\cap B \\right)} $\n",
    "- $ {P}{\\left( A \\right)} = 1 - {P}{\\left( A' \\right)} $, where $ A' = {A}^{c} $\n",
    "- $ {P}{\\left( A \\setminus B \\right)} = {P}{\\left( A \\right)} - {P}{\\left( A \\cap B \\right)} $\n",
    "- If $ A \\subseteq B $ then $ {P}{\\left( A \\right)} \\le {P}{\\left( B \\right)} $"
   ]
  },
  {
   "cell_type": "markdown",
   "metadata": {},
   "source": [
    "[Back to the top](#In-this-lesson)"
   ]
  },
  {
   "cell_type": "markdown",
   "metadata": {
    "collapsed": true
   },
   "source": [
    "## Conditional probability"
   ]
  },
  {
   "cell_type": "markdown",
   "metadata": {},
   "source": [
    "Up until now, we have considered unconditional events.  If you flip two coins in a row, the ouctome of the second is not influenced by the first.  This is not so in **Conditional Probability** where an outcome is influenced by that which have preceded it."
   ]
  },
  {
   "cell_type": "markdown",
   "metadata": {},
   "source": [
    "We note the probability of $ A $ given $ B $ and write\n",
    "$$ {P}{\\left( A|B \\right)} = \\frac{{P}{\\left( A \\cap B \\right)}}{{P}{\\left( B \\right)}} $$"
   ]
  },
  {
   "cell_type": "markdown",
   "metadata": {},
   "source": [
    "So, imagine that we cast a pair of dice.  The equiprobable sample space consists of $ 36 $ ordered pairs, with the probability of any pair landing face-up being $ \\frac{1}{36} $.<p/>\n",
    "As a condtional probability question we can ask what the probability is of one of the dice landing with the value $ 2 $ face-up given that the total face-value is $ 6 $, i.e. $ {P}{\\left( A|B \\right)} $."
   ]
  },
  {
   "cell_type": "markdown",
   "metadata": {},
   "source": [
    "From our ```dicepair()``` function above, let's see how many ways there are to cast a total face-value of $ 6 $."
   ]
  },
  {
   "cell_type": "code",
   "execution_count": 23,
   "metadata": {
    "collapsed": false
   },
   "outputs": [
    {
     "name": "stdout",
     "output_type": "stream",
     "text": [
      "1 5\n",
      "2 4\n",
      "3 3\n",
      "4 2\n",
      "5 1\n"
     ]
    },
    {
     "data": {
      "text/latex": [
       "$$5$$"
      ],
      "text/plain": [
       "5"
      ]
     },
     "execution_count": 23,
     "metadata": {},
     "output_type": "execute_result"
    }
   ],
   "source": [
    "dicepair(6)"
   ]
  },
  {
   "cell_type": "markdown",
   "metadata": {},
   "source": [
    "We have then that $ {P}{\\left( B \\right)} = \\frac{5}{36} $.  For $ {P}{\\left( A \\cap B \\right)} $, we never created a function to show how many times a certain number appears in the ordered pairs.  Here is one."
   ]
  },
  {
   "cell_type": "code",
   "execution_count": 24,
   "metadata": {
    "collapsed": true
   },
   "outputs": [],
   "source": [
    "def nump(x):\n",
    "    total = 0\n",
    "    for i in range(1, 7):\n",
    "        for j in range(1, 7):\n",
    "            if i == x or j == x:\n",
    "                print(i, j)\n",
    "                total += 1\n",
    "            else:\n",
    "                total = total\n",
    "    return total"
   ]
  },
  {
   "cell_type": "code",
   "execution_count": 25,
   "metadata": {
    "collapsed": false
   },
   "outputs": [
    {
     "name": "stdout",
     "output_type": "stream",
     "text": [
      "1 2\n",
      "2 1\n",
      "2 2\n",
      "2 3\n",
      "2 4\n",
      "2 5\n",
      "2 6\n",
      "3 2\n",
      "4 2\n",
      "5 2\n",
      "6 2\n"
     ]
    },
    {
     "data": {
      "text/latex": [
       "$$11$$"
      ],
      "text/plain": [
       "11"
      ]
     },
     "execution_count": 25,
     "metadata": {},
     "output_type": "execute_result"
    }
   ],
   "source": [
    "nump(2)"
   ]
  },
  {
   "cell_type": "markdown",
   "metadata": {},
   "source": [
    "We only count two pairs in the intersection, $ \\left\\{ \\left( 2, 4 \\right), \\left( 4,2 \\right) \\right\\} $, thus $ {P}{\\left( A \\cap B \\right)} = \\frac{2}{36} $.  Thus we have:\n",
    "$$ {P}{\\left( A|B \\right)} = \\frac{{P}{\\left( A \\cap B \\right)}}{{P}{\\left( B \\right)}} \\\\ {P}{\\left( A|B \\right)} = \\frac{\\frac{2}{36}}{\\frac{5}{36}} \\\\ {P}{\\left( A|B \\right)} = \\frac{2}{5} $$"
   ]
  },
  {
   "cell_type": "markdown",
   "metadata": {},
   "source": [
    "In another famous example we consider two siblings.  If we restrict the sample space (for simplicity) to boys, $ B $, and girls, $ G $, we have $ \\left\\{ \\left( g,g \\right), \\left( g,b \\right), \\left( b,g \\right), \\left( b,b \\right) \\right\\} $.  In the first instance we can ask what the probability is of both siblings being girls, given that at least one of the two is a girl.  This reduces our sample space to $ \\left\\{ \\left( g,g \\right), \\left( g,b \\right), \\left( b,g \\right) \\right\\} $ and the probability is a third.  If we want to know the probability of both being girls given that the first in the pair is a girl, we reduce the sample space even further to $ \\left\\{ \\left( g,g \\right), \\left( g,b \\right) \\right\\} $, giving a probability of a half."
   ]
  },
  {
   "cell_type": "markdown",
   "metadata": {},
   "source": [
    "From conditional probability (note the order change)\n",
    "$$ {P}{\\left( B|A \\right)} = \\frac{{P}{\\left( A \\cap B \\right)}}{{P}{\\left( A \\right)}} $$\n",
    "we get the **Multiplication Theorem of Conditional Probability**, which states\n",
    "$$ {P}{\\left( A \\cap B \\right)} = {P}{\\left( A \\right)}{P}{\\left( B|A \\right)} $$"
   ]
  },
  {
   "cell_type": "markdown",
   "metadata": {
    "collapsed": true
   },
   "source": [
    "We can extend this to more intersections.  Imagine we have $ 15 $ items, of which $ 6 $ are defective.  We draw 4 items at random and ask what the probability is of all $ 4 $ being fully functional.<p/>\n",
    "The first item drawn has a probability of $ \\frac{9}{15} $ of being fully functional.  We have now removed on functional unit from the list, so we are left with $ 14 $ items, of which $ 8 $ are functional.  So the probability of the second being functional is $ \\frac{8}{14} $.  This repeats for all $ 4 $ draws and since we are looking for the probability of the intersection we have\n",
    "$$ \\frac{9}{15} \\cdot \\frac{8}{14} \\cdot \\frac{7}{13} \\cdot \\frac{6}{12} \\approx 0.09  $$"
   ]
  },
  {
   "cell_type": "markdown",
   "metadata": {},
   "source": [
    "So we have\n",
    "$$ P\\left( A\\cap B \\right) =P\\left( A \\right) P\\left( B|A \\right) \\\\ P\\left( A\\cap B\\cap C \\right) =P\\left( A\\cap B \\right) P\\left( C|A\\cap B \\right) \\\\ P\\left( A\\cap B\\cap C \\right) =P\\left( A \\right) P\\left( B|A \\right) P\\left( C|A\\cap B \\right)  $$\n",
    "For even more intersection we have\n",
    "$$ P\\left( { A }_{ 1 }\\cap { A }_{ 2 }\\cap \\dots \\cap { A }_{ k } \\right) =P\\left( { A }_{ 1 } \\right) P\\left( { A }_{ 2 }|{ A }_{ 1 } \\right) P\\left( { A }_{ 3 }|{ A }_{ 1 }\\cap { A }_{ 2 } \\right) \\dots P\\left( { A }_{ k }|{ A }_{ 1 }\\cap { A }_{ 2 }\\cap \\dots \\cap { A }_{ k-1 } \\right)  $$\n",
    "If all the events are independent (see next section), this simplifies to\n",
    "$$ P\\left( { A }_{ 1 }\\cap { A }_{ 2 }\\cap \\dots \\cap { A }_{ k } \\right) =P\\left( { A }_{ 1 } \\right) P\\left( { A }_{ 2 } \\right) \\dots P\\left( { A }_{ k } \\right)  $$"
   ]
  },
  {
   "cell_type": "markdown",
   "metadata": {},
   "source": [
    "[Back to the top](#In-this-lesson)"
   ]
  },
  {
   "cell_type": "markdown",
   "metadata": {},
   "source": [
    "## Independent events"
   ]
  },
  {
   "cell_type": "markdown",
   "metadata": {},
   "source": [
    "If occurence of one event is not dependent on the occurrence of another, they are **Independent Events**.  This happens when $ {P}{\\left( B|A \\right)} = {P}{\\left( B \\right)}$.  So we have that if $ {P}{\\left( A \\cap B \\right)} = {P}{\\left( A \\right)}{P}{\\left( B \\right)} $ then\n",
    "- $ {P}{\\left( B|A \\right)} = {P}{\\left( B \\right)} $\n",
    "- $ {P}{\\left( A|B \\right)} = {P}{\\left( A \\right)} $"
   ]
  },
  {
   "cell_type": "markdown",
   "metadata": {},
   "source": [
    "We have to know wwhen events are independent and when not.  Consider that we flip a coint three times.  The outcomes are $ S = \\left\\{ HHH,HHT,HTH,HTT,THH,THT,TTH,TTT \\right\\} $.<p/>\n",
    "Now let's have three events\n",
    "- A will be the subset of *first flip is a head* = $ S = \\left\\{ HHH,HHT,HTH,HTT \\right\\} $\n",
    "- B will be the subset of *the second flip is a head* = $ S = \\left\\{ HHH,HHT,THH,THT \\right\\} $\n",
    "- C will be the subset of *two heads in a row* = $ S = \\left\\{ HHT,THH \\right\\} $ (not $ 3 $ in a row)"
   ]
  },
  {
   "cell_type": "markdown",
   "metadata": {},
   "source": [
    "So we have\n",
    "- $ {P}{\\left( A \\right)} = \\frac{4}{8} = \\frac{1}{2} $\n",
    "- $ {P}{\\left( B \\right)} = \\frac{4}{8}  = \\frac{1}{2} $\n",
    "- $ {P}{\\left( C \\right)} = \\frac{2}{8} = \\frac{1}{4} $\n",
    "- $ {P}{\\left( A \\cap B \\right)} = \\left\\{ HHH,HHT \\right\\} = \\frac{1}{4} = {P}{\\left( A \\right)}{P}{\\left( B \\right)} $\n",
    "- $ {P}{\\left( A \\cap C \\right)} = \\left\\{ HHT \\right\\} = \\frac{1}{8} = {P}{\\left( A \\right)}{P}{\\left( C \\right)} $\n",
    "- $ {P}{\\left( B \\cap C \\right)} = \\left\\{ HHT,THH \\right\\} = \\frac{1}{4} \\ne {P}{\\left( B \\right)}{P}{\\left( C \\right)} $\n",
    "\n",
    "$ B $ and $ C $ are thus dependent."
   ]
  },
  {
   "cell_type": "markdown",
   "metadata": {},
   "source": [
    "For the union of independent events we have\n",
    "$$ {P}{\\left( A \\cup B \\right)} = {P}{\\left( A \\right)} + {P}{\\left( B \\right)} - {P}{\\left( A \\cap B \\right)} $$"
   ]
  },
  {
   "cell_type": "markdown",
   "metadata": {},
   "source": [
    "[Back to the top](#In-this-lesson)"
   ]
  },
  {
   "cell_type": "markdown",
   "metadata": {},
   "source": [
    "## The binomial distribution"
   ]
  },
  {
   "cell_type": "markdown",
   "metadata": {},
   "source": [
    "Here we are concerned with the probability of an outcome (usually called a **success**) given $ n $ repeats of a binary outcome experiment, with the probability of a success being $ p $.  In an example we can flip a coint $ 10 $ times.  If *heads* is a success with a probability of $ p = 0.5 $ we can ask what the probability is of $ r \\in \\left[ 1,n \\right] $ successes in $ n $ trials, given $ p $."
   ]
  },
  {
   "cell_type": "code",
   "execution_count": 26,
   "metadata": {
    "collapsed": true
   },
   "outputs": [],
   "source": [
    "# Creating a binomial distribution\n",
    "# Experiment to be repeated 20 times\n",
    "# At each independent trial we have the probability of success of 50%\n",
    "X = Binomial(\"X\", n = 6, p = 0.5)"
   ]
  },
  {
   "cell_type": "markdown",
   "metadata": {},
   "source": [
    "We can now create a ```dict``` of the probable outcomes."
   ]
  },
  {
   "cell_type": "code",
   "execution_count": 27,
   "metadata": {
    "collapsed": false
   },
   "outputs": [
    {
     "data": {
      "text/latex": [
       "$$\\left \\{ 0 : 0.015625, \\quad 1 : 0.09375, \\quad 2 : 0.234375, \\quad 3 : 0.3125, \\quad 4 : 0.234375, \\quad 5 : 0.09375, \\quad 6 : 0.015625\\right \\}$$"
      ],
      "text/plain": [
       "{0: 0.015625, 1: 0.09375, 2: 0.234375, 3: 0.3125, 4: 0.234375, 5: 0.09375, 6: \n",
       "0.015625}"
      ]
     },
     "execution_count": 27,
     "metadata": {},
     "output_type": "execute_result"
    }
   ],
   "source": [
    "density(X).dict"
   ]
  },
  {
   "cell_type": "markdown",
   "metadata": {},
   "source": [
    "So, above we have a dictionary with a *key* and a *value*.  Its states that there is a $ {0.015625} $ of getting no successes.  So if we flipped a coin $ 6 $ times, the proabbility of no *heads* would be approximately $ 0.015625 $.  For $ 2 $ heads it would be $ 0.234375 $."
   ]
  },
  {
   "cell_type": "markdown",
   "metadata": {},
   "source": [
    "The equation for $ r $ successes in $ n $ independent trials, given the probability of a success being $ p $ is\n",
    "$$ { _{ n }{ C }_{ r } }{ p }^{ r }{ p }^{ n-r }=\\frac { n! }{ r!\\left( n-r \\right) ! } { p }^{ r }{ p }^{ n-r } $$"
   ]
  },
  {
   "cell_type": "markdown",
   "metadata": {},
   "source": [
    "We can create a python™ function that takes three arguments and calculates the equation above."
   ]
  },
  {
   "cell_type": "code",
   "execution_count": 28,
   "metadata": {
    "collapsed": true
   },
   "outputs": [],
   "source": [
    "def succ(n,r,p):\n",
    "    return ((factorial(n)) / ((factorial(r)) * (factorial(n - r)))) * (p**r) * (p**(n - r))"
   ]
  },
  {
   "cell_type": "code",
   "execution_count": 29,
   "metadata": {
    "collapsed": false
   },
   "outputs": [
    {
     "data": {
      "text/latex": [
       "$$0.234375$$"
      ],
      "text/plain": [
       "0.234375"
      ]
     },
     "execution_count": 29,
     "metadata": {},
     "output_type": "execute_result"
    }
   ],
   "source": [
    "# Asking the probability of 2 successes from 6 trials, with the proabbility of\n",
    "# success of each independent trial being 50%\n",
    "succ(6,2,0.5)"
   ]
  },
  {
   "cell_type": "markdown",
   "metadata": {},
   "source": [
    "We can recreate the same functionality as with the ```Binomial()``` *sympy* function."
   ]
  },
  {
   "cell_type": "code",
   "execution_count": 30,
   "metadata": {
    "collapsed": false
   },
   "outputs": [],
   "source": [
    "def succ(n,p):\n",
    "    for i in range(1, (n + 1)):\n",
    "        print(i, ((factorial(n)) / ((factorial(i)) * (factorial(n - i)))) * (p**i) * (p**(n - i)), \"\\n\")"
   ]
  },
  {
   "cell_type": "code",
   "execution_count": 31,
   "metadata": {
    "collapsed": false
   },
   "outputs": [
    {
     "name": "stdout",
     "output_type": "stream",
     "text": [
      "1 0.09375 \n",
      "\n",
      "2 0.234375 \n",
      "\n",
      "3 0.3125 \n",
      "\n",
      "4 0.234375 \n",
      "\n",
      "5 0.09375 \n",
      "\n",
      "6 0.015625 \n",
      "\n"
     ]
    }
   ],
   "source": [
    "succ(6, 0.5)"
   ]
  },
  {
   "cell_type": "markdown",
   "metadata": {},
   "source": [
    "We can have some fun with this.  The *scipy* library has a statistics section that contains a large variety of random variable distributions.  One of them is ```binom()```.  One of the methdos of ```binom()``` is ```rvs()```.  When used together we can pass some arguments.  Below, I create the computer variable called ```sample1```.  It uses the binomial distribution and, as above, we do an experiment $ 6 $ times and look for the number of successes (from $ 0 $ successes up to $ 6 $ successes), with ethe probability of a success being $ 0.5 $ and quite independent of what came before.  The ```rvs()``` methods allows use to use the ```size``` arguments that, in effect, tells the computer to do this $ 1000 $ times.  You can do any number of repeats.  I simply chose $ 1000 $.<p/>\n",
    "Then I use *seaborn* to give me a plot showing a histogram of the results.  As predicted, we will see $ 3 $ successes come up most often."
   ]
  },
  {
   "cell_type": "code",
   "execution_count": 38,
   "metadata": {
    "collapsed": true
   },
   "outputs": [],
   "source": [
    "sample1 = binom.rvs(6, 0.5, size = 1000);"
   ]
  },
  {
   "cell_type": "code",
   "execution_count": 39,
   "metadata": {
    "collapsed": false
   },
   "outputs": [
    {
     "data": {
      "image/png": "[encoded data removed]",
      "text/plain": [
       "<matplotlib.figure.Figure at 0x11b2eae10>"
      ]
     },
     "metadata": {},
     "output_type": "display_data"
    }
   ],
   "source": [
    "sns.countplot(sample1);"
   ]
  },
  {
   "cell_type": "markdown",
   "metadata": {
    "collapsed": true
   },
   "source": [
    "[Back to the top](#In-this-lesson)"
   ]
  },
  {
   "cell_type": "markdown",
   "metadata": {},
   "source": [
    "## Random variables"
   ]
  },
  {
   "cell_type": "markdown",
   "metadata": {},
   "source": [
    "In discrete mathematics we formally define a **Random Variable**, $ X $, as a rule that assigns a numerical value to each outcome in a sample space, $ S $.  So we could assign the number $ 1 $ to *heads* and the number $ 0 $ to *tails* in the sample space $ S = \\left\\{ H,T \\right\\} $ for the flipping of a coin.<p/>\n",
    "The new sample space is denoted as $ {R}_{X} = \\left\\{ 0,1 \\right\\} $ and is referred to as the **Range of $ X $**."
   ]
  },
  {
   "cell_type": "markdown",
   "metadata": {},
   "source": [
    "If our rule is to add the two face values of a pair of dice, the range of $ X $ would be $ {R}_{X} = \\left\\{ 2,3,4,5,6,7,8,9,10,11,12 \\right\\} $.<p/>\n",
    "We could also create a new rule, let's call it **Random Variable $ Y $**, which returns the highest value when rolling a pair of dice.  The range of $ Y $ would be $ {R}_{Y} = \\left\\{ 1,2,3,4,5,6 \\right\\} $."
   ]
  },
  {
   "cell_type": "markdown",
   "metadata": {},
   "source": [
    "We can add and multiply random variables.  So, if we consider two random variables, $ X $ and $ Y $, on a sample space, $ S $, then the following functions are defined on $ S $ (with $ s \\in S $)\n",
    "- $ \\left( X + Y \\right) \\left( s \\right) = X \\left( s \\right) + Y \\left( s \\right) $\n",
    "- $ \\left( kX \\right) \\left( s \\right) = k X \\left( s \\right) $\n",
    "- $ \\left( XY \\right) \\left( s \\right) = X \\left( s \\right) Y \\left( s \\right) $"
   ]
  },
  {
   "cell_type": "markdown",
   "metadata": {},
   "source": [
    "[Back to the top](#In-this-lesson)"
   ]
  },
  {
   "cell_type": "markdown",
   "metadata": {},
   "source": [
    "## Probability distributions"
   ]
  },
  {
   "cell_type": "markdown",
   "metadata": {},
   "source": [
    "To understand the **Probability Distribution** of a random variable, we take a random variable, $ X $, on a finite sample space, $ S $, with range space $ {R}_{x} = \\left\\{ {x}_{1}, {x}_{2}, \\dots , {x}_{t} \\right\\} $.  This means that we get a function, $ f $, whioch assigns probabilities, $ {p}_{k} $ to the points $ {x}_{k} $ in $ {R}_{x} $ as follows\n",
    "$$ {P}{{x}_{k}} = {p}_{k} = {P}{\\left( X = {x}_{k} \\right)} $$\n",
    "This is the sum of the probabilities of points in $ S $ whose image is $ {x}_{k} $."
   ]
  },
  {
   "cell_type": "markdown",
   "metadata": {},
   "source": [
    "In the case of a discrete variables the values $ {x}_{k} $ and $ {f}{\\left( x \\right)} $ are usually given in a table.  In the case of continuous random variables, it is plotted as a density function."
   ]
  },
  {
   "cell_type": "markdown",
   "metadata": {},
   "source": [
    "For a discrete random variable we have two properties\n",
    "- $ {f}{\\left( {x}_{k} \\right)} \\le 0 $\n",
    "- $ \\sum _{ k }^{  }{ f\\left( { x }_{ k } \\right)  } = 1 $"
   ]
  },
  {
   "cell_type": "markdown",
   "metadata": {},
   "source": [
    "For an equiprobable sample space we can easily calculate the distribution of a random variable.  Here $ {p}_{i} = {f}{\\left( {x}_{i} \\right)} $ is the number of points in $ S $ whose image is $ {x}_{i} $ divided by the number of points in $ S $.<p/>\n",
    "So for the roll of a pair of dice we have $ 6 $ ways that adds up to a $ 7 $ using our rule of creating a random variable by adding the two face values.  The sample space is $ \\left\\{ 2, 3, 4, 5, 6, 7, 8, 9, 10,11,12 \\right\\} $ so we have a distribution of\n",
    "$$ \\begin{matrix} x & 2 & 3 & 4 & 5 & 6 & 7 & 8 & 9 & 10 & 11 & 12 \\\\ f\\left( x \\right)  & \\frac { 1 }{ 36 }  & \\frac { 2 }{ 36 }  & \\frac { 3 }{ 36 }  & \\frac { 4 }{ 36 }  & \\frac { 5 }{ 36 }  & \\frac { 6 }{ 36 }  & \\frac { 5 }{ 36 }  & \\frac { 4 }{ 36 }  & \\frac { 3 }{ 36 }  & \\frac { 2 }{ 36 }  & \\frac { 1 }{ 36 }  \\end{matrix} $$"
   ]
  },
  {
   "cell_type": "markdown",
   "metadata": {},
   "source": [
    "[Back to the top](#In-this-lesson)"
   ]
  },
  {
   "cell_type": "markdown",
   "metadata": {},
   "source": [
    "## The expectation value of a random variable"
   ]
  },
  {
   "cell_type": "markdown",
   "metadata": {},
   "source": [
    "The **Expectation Value** or **Mean Value** of a random value is the sum of the product of all $ {x}_{i} $ and $ {f}{\\left( {x}_{i} \\right)} $ values\n",
    "$$ \\mu = {E}{\\left( X \\right)} = {X} {\\left( {s}_{1} \\right)} {P}{\\left( {s}_{1} \\right)} + {X} {\\left( {s}_{2} \\right)} {P}{\\left( {s}_{2} \\right)} + \\dots + {X} {\\left( {s}_{m} \\right)} {P}{\\left( {s}_{m} \\right)} = \\sum { X\\left( { s }_{ k } \\right) P\\left( { s }_{ k } \\right)  }  $$"
   ]
  },
  {
   "cell_type": "markdown",
   "metadata": {},
   "source": [
    "So, if $ f $ is the distribution of $ X $ then $ \\mu = \\mu = {E}{\\left( X \\right)} = \\sum {{ x }_{ k }} {{f} {\\left( { x }_{ k } \\right)}  } $."
   ]
  },
  {
   "cell_type": "markdown",
   "metadata": {},
   "source": [
    "The **Expectation Value** for our dice experiment would be\n",
    "$$ E\\left( X \\right) =2\\left( \\frac { 1 }{ 36 }  \\right) +3\\left( \\frac { 2 }{ 36 }  \\right) +4\\left( \\frac { 3 }{ 36 }  \\right) +5\\left( \\frac { 4 }{ 36 }  \\right) +6\\left( \\frac { 5 }{ 36 }  \\right) +7\\left( \\frac { 6 }{ 36 }  \\right) +8\\left( \\frac { 5 }{ 36 }  \\right) +9\\left( \\frac { 4 }{ 36 }  \\right) +10\\left( \\frac { 3 }{ 36 }  \\right) +11\\left( \\frac { 2 }{ 36 }  \\right) +12\\left( \\frac { 1 }{ 36 }  \\right) = 7  $$\n",
    "This is what we expect.  We will see a $ 7 $ most often."
   ]
  },
  {
   "cell_type": "markdown",
   "metadata": {},
   "source": [
    "We can use the *sympy* function ```E()``` to calculate this."
   ]
  },
  {
   "cell_type": "code",
   "execution_count": 49,
   "metadata": {
    "collapsed": true
   },
   "outputs": [],
   "source": [
    "# Create computer variables X1 and X2\n",
    "# They are a pair of fair dice, each with 6 sides\n",
    "X1 = Die(\"X1\", 6)\n",
    "X2 = Die(\"X2\", 6)"
   ]
  },
  {
   "cell_type": "code",
   "execution_count": 50,
   "metadata": {
    "collapsed": false
   },
   "outputs": [
    {
     "data": {
      "text/latex": [
       "$$7$$"
      ],
      "text/plain": [
       "7"
      ]
     },
     "execution_count": 50,
     "metadata": {},
     "output_type": "execute_result"
    }
   ],
   "source": [
    "E(X1 + X2)"
   ]
  },
  {
   "cell_type": "markdown",
   "metadata": {},
   "source": [
    "The expectation value of a normal distribution is simply $ {E}{\\left( X \\right)} = np $, where $ n $ is the number of independent trials and $ p $ is the proabability of success at each trial."
   ]
  },
  {
   "cell_type": "markdown",
   "metadata": {},
   "source": [
    "[Back to the top](#In-this-lesson)"
   ]
  },
  {
   "cell_type": "markdown",
   "metadata": {},
   "source": [
    "## The variance and standard deviation of a random variable"
   ]
  },
  {
   "cell_type": "markdown",
   "metadata": {},
   "source": [
    "We define the **Variance** of a random variable as\n",
    "$$ \\sum { { \\left( { x }_{ k }-\\mu  \\right)  }^{ 2 }f\\left( { x }_{ k } \\right)  } = E \\left[ {\\left( X - \\mu \\right)}^{2} \\right] = \\left[ \\sum { { { x }_{ k } }^{ 2 }f\\left( { x }_{ k } \\right)  }  \\right] -{ \\mu  }^{ 2 } $$"
   ]
  },
  {
   "cell_type": "markdown",
   "metadata": {},
   "source": [
    "The **Standard Deviation** of the square root of the variance and is denoted by $ \\sigma $."
   ]
  },
  {
   "cell_type": "markdown",
   "metadata": {},
   "source": [
    "The variance of a binomial distribution is simply $ {E}{\\left( X \\right)} = npq $, where $ n $ is the number of trials, $ p $ the probability of success at each independent trial and $ q = 1 - p $ is the probability of failure."
   ]
  },
  {
   "cell_type": "markdown",
   "metadata": {},
   "source": [
    "[Back to the top](#In-this-lesson)"
   ]
  },
  {
   "cell_type": "markdown",
   "metadata": {},
   "source": [
    "## The inequality of Chebyshev"
   ]
  },
  {
   "cell_type": "markdown",
   "metadata": {},
   "source": [
    "Given any positiver integer, $ k $, the **Inequality of Chebyshev** states that the probability that a value of the random variable, $ X $, lies in an interval $ \\left[ \\mu - k \\sigma , \\mu + k \\sigma \\right] $ is larger than or equal to $ 1 - \\frac{1}{{k}^{2}} $, where $ \\mu $ is the expectation value and $ \\sigma $ the standard deviation.\n",
    "$$ {P}{\\left( \\mu - k \\sigma \\le X \\le \\mu + k \\sigma \\right)} \\ge 1 - \\frac{1}{{k}^{2}} $$"
   ]
  },
  {
   "cell_type": "markdown",
   "metadata": {},
   "source": [
    "So the probability of finding a value that is within $ 2 $ standard deviations of a mean of $ 0 $ is $ 1 - \\frac{1}{{2}^{2}} \\ge 0.75 $."
   ]
  },
  {
   "cell_type": "markdown",
   "metadata": {},
   "source": [
    "[Back to the top](#In-this-lesson)"
   ]
  },
  {
   "cell_type": "markdown",
   "metadata": {},
   "source": [
    "## The rule of Bayes"
   ]
  },
  {
   "cell_type": "markdown",
   "metadata": {},
   "source": [
    "**Bayes' Theorem** is based on [conditional probability](#Conditional-probability), which we saw above.  We noted the probability of $ A $ given $ B $ and wrote\n",
    "$$ {P}{\\left( A|B \\right)} = \\frac{{P}{\\left( A \\cap B \\right)}}{{P}{\\left( B \\right)}} = \\frac{{P}{\\left( B \\cap A \\right)}}{{P}{\\left( B \\right)}} $$\n",
    "Note that the order of intersection is of no consequence and that we can also have\n",
    "$$ {P}{\\left( B|A \\right)} = \\frac{{P}{\\left( A \\cap B \\right)}}{{P}{\\left( A \\right)}} = \\frac{{P}{\\left( B \\cap A \\right)}}{{P}{\\left( A \\right)}} $$"
   ]
  },
  {
   "cell_type": "markdown",
   "metadata": {},
   "source": [
    "Consider that we have a sample space, $ S $ and divide it up into disjoint events, $ {B}_{i} $ such that $ S = \\sum{{B}_{i}} = {B}_{1} + {B}_{2} + \\dots + {B}_{k} $ and $ {P}{\\left( {B}_{i} \\ne 0 \\right)} $.<p/>\n",
    "Now, for any event $ A $, that includes arbitrary parts of any or all $ {B}_{i} $ events ($ A = \\left( { B }_{ 1 }\\cap A \\right) \\cup \\left( { B }_{ 2 }\\cap A \\right) \\cup \\dots \\cup \\left( { B }_{ k }\\cap A \\right)  $) we have\n",
    "$$ {P}{\\left( A \\right)} = \\sum _{ i=1 }^{ k }{ P\\left( { B }_{ i }\\cap A \\right)  } =\\sum _{ i=1 }^{ k }{ P\\left( { B }_{ i } \\right) P\\left( A|{ B }_{ i } \\right)  }  $$\n",
    "Where\n",
    "$$ \\sum _{ i=1 }^{ k }{ P\\left( { B }_{ i } \\right) P\\left( A|{ B }_{ i } \\right)  } $$\n",
    "comes from the above\n",
    "$$ {P}{\\left( A|B \\right)} = \\frac{{P}{\\left( B \\cap A \\right)}}{{P}{\\left( B \\right)}} $$"
   ]
  },
  {
   "cell_type": "markdown",
   "metadata": {},
   "source": [
    "Now, if we carefully substitute some of the above we get\n",
    "$$ {P}{\\left( {B}_{r}|A \\right)} = \\frac{{P}{\\left( {B}_{r} \\cap A \\right)}}{{P}{\\left( A \\right)}} \\\\ {P}{\\left( {B}_{r}|A \\right)} = \\frac{{P}{\\left( {B}_{r} \\cap A \\right)}}{\\sum _{ i=1 }^{ k }{ P\\left( { B }_{ i }\\cap A \\right)  }} = \\frac{{P}{\\left( {B}_{r} \\right)} {P}{\\left( A | {B}_{r} \\right)}}{\\sum _{ i=1 }^{ k }{ P\\left( { B }_{ i } \\right) P\\left( A|{ B }_{ i } \\right)  }} $$\n",
    "which constitutes proof of **Bayes' Theorem**."
   ]
  },
  {
   "cell_type": "markdown",
   "metadata": {},
   "source": [
    "[Back to the top](#In-this-lesson)"
   ]
  },
  {
   "cell_type": "code",
   "execution_count": null,
   "metadata": {
    "collapsed": true
   },
   "outputs": [],
   "source": []
  }
 ],
 "metadata": {
  "kernelspec": {
   "display_name": "Python 3",
   "language": "python",
   "name": "python3"
  },
  "language_info": {
   "codemirror_mode": {
    "name": "ipython",
    "version": 3
   },
   "file_extension": ".py",
   "mimetype": "text/x-python",
   "name": "python",
   "nbconvert_exporter": "python",
   "pygments_lexer": "ipython3",
   "version": "3.5.1"
  }
 },
 "nbformat": 4,
 "nbformat_minor": 0
}
